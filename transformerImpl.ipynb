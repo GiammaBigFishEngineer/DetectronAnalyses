{
 "cells": [
  {
   "cell_type": "markdown",
   "metadata": {},
   "source": [
    "# TRANSFORMER\n",
    "Per implementare una backbone transformer su un modello R-CNN di Detectron2, sfrutto l’architettura base di modelli come Vision Transformer (ViT) o Swin Transformer integrati come backbone. Detectron2 supporta nativamente il caricamento di backbone personalizzati, purché siano definiti in conformità con l’architettura e i requisiti del framework."
   ]
  },
  {
   "cell_type": "markdown",
   "metadata": {},
   "source": [
    "### 1. Installare Dipendenze\n",
    "Se il transformer che vuoi utilizzare non è integrato in Detectron2, puoi installare una libreria che fornisce implementazioni, come timm o transformers.<br>\n",
    "**pip install timm**"
   ]
  },
  {
   "cell_type": "markdown",
   "metadata": {},
   "source": [
    "### 2. Configurazione del Modello\n",
    "Aggiorna il file di configurazione del modello Detectron2 per utilizzare il tuo transformer come backbone:"
   ]
  },
  {
   "cell_type": "code",
   "execution_count": null,
   "metadata": {},
   "outputs": [],
   "source": [
    "from detectron2.config import get_cfg\n",
    "from detectron2 import model_zoo\n",
    "from swin_transformer_detectron2 import add_swin_transformer_config\n",
    "\n",
    "# Crea configurazione\n",
    "cfg = get_cfg()\n",
    "\n",
    "# Aggiungi configurazione per Swin Transformer\n",
    "add_swin_transformer_config(cfg)\n",
    "\n",
    "# Carica una configurazione di base per Faster R-CNN\n",
    "cfg.merge_from_file(model_zoo.get_config_file(\"COCO-Detection/faster_rcnn_R_50_FPN_3x.yaml\"))\n",
    "\n",
    "# Modifica il backbone con Swin Transformer\n",
    "cfg.MODEL.BACKBONE.NAME = \"build_swin_transformer_backbone\"\n",
    "cfg.MODEL.SWIN = {\n",
    "    \"PRETRAIN_IMG_SIZE\": 224,\n",
    "    \"PATCH_SIZE\": 4,\n",
    "    \"DEPTHS\": [2, 2, 6, 2],\n",
    "    \"NUM_HEADS\": [3, 6, 12, 24],\n",
    "    \"WINDOW_SIZE\": 7,\n",
    "    \"MLP_RATIO\": 4.0,\n",
    "    \"DROP_PATH_RATE\": 0.2,\n",
    "}\n",
    "\n",
    "# Configura i pesi pre-addestrati per Swin\n",
    "cfg.MODEL.WEIGHTS = \"https://github.com/SwinTransformer/storage/releases/download/v1.0.0/swin_tiny_patch4_window7_224.pth\"\n",
    "\n",
    "# Configura il dispositivo e le classi\n",
    "cfg.MODEL.ROI_HEADS.NUM_CLASSES = 80  # Modifica in base al tuo dataset\n",
    "cfg.MODEL.DEVICE = \"cuda\" if torch.cuda.is_available() else \"cpu\"\n",
    "\n",
    "# Salva la configurazione\n",
    "cfg.OUTPUT_DIR = \"./output_swin_transformer\""
   ]
  },
  {
   "cell_type": "markdown",
   "metadata": {},
   "source": [
    "### 3. Costruzione Modello"
   ]
  },
  {
   "cell_type": "code",
   "execution_count": null,
   "metadata": {},
   "outputs": [],
   "source": [
    "from detectron2.modeling import build_model\n",
    "\n",
    "# Costruisci il modello con il backbone Swin\n",
    "model = build_model(cfg)\n",
    "\n",
    "# Visualizza la struttura del modello\n",
    "print(model)"
   ]
  },
  {
   "cell_type": "markdown",
   "metadata": {},
   "source": [
    "### 4. Inference"
   ]
  },
  {
   "cell_type": "code",
   "execution_count": null,
   "metadata": {},
   "outputs": [],
   "source": [
    "from detectron2.engine import DefaultPredictor\n",
    "from detectron2.utils.visualizer import Visualizer\n",
    "import cv2\n",
    "\n",
    "# Configura il predittore\n",
    "predictor = DefaultPredictor(cfg)\n",
    "\n",
    "# Carica un'immagine di test\n",
    "image = cv2.imread(\"test_image.jpg\")\n",
    "\n",
    "# Effettua inferenza\n",
    "outputs = predictor(image)\n",
    "\n",
    "# Visualizza i risultati\n",
    "v = Visualizer(image[:, :, ::-1], metadata=None)\n",
    "out = v.draw_instance_predictions(outputs[\"instances\"].to(\"cpu\"))\n",
    "cv2.imshow(\"Results\", out.get_image()[:, :, ::-1])\n",
    "cv2.waitKey(0)"
   ]
  }
 ],
 "metadata": {
  "kernelspec": {
   "display_name": "base",
   "language": "python",
   "name": "python3"
  },
  "language_info": {
   "codemirror_mode": {
    "name": "ipython",
    "version": 3
   },
   "file_extension": ".py",
   "mimetype": "text/x-python",
   "name": "python",
   "nbconvert_exporter": "python",
   "pygments_lexer": "ipython3",
   "version": "3.11.5"
  },
  "orig_nbformat": 4
 },
 "nbformat": 4,
 "nbformat_minor": 2
}
